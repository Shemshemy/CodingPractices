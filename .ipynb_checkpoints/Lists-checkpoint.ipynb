{
 "cells": [
  {
   "cell_type": "code",
   "execution_count": 3,
   "id": "8d6e69bb-94bc-4002-b6f3-3e1adb1067d9",
   "metadata": {},
   "outputs": [],
   "source": [
    "trades = [\n",
    "    {\"symbol\": \"AAPL\", \"price\": 175.50, \"volume\": 150, \"timestamp\": \"2025-07-16 10:00:00\"},\n",
    "    {\"symbol\": \"GOOGL\", \"price\": 180.20, \"volume\": 50, \"timestamp\": \"2025-07-16 10:01:00\"},\n",
    "    {\"symbol\": \"AAPL\", \"price\": 176.00, \"volume\": 200, \"timestamp\": \"2025-07-16 10:02:00\"},\n",
    "    {\"symbol\": \"MSFT\", \"price\": 450.10, \"volume\": 75, \"timestamp\": \"2025-07-16 10:03:00\"},\n",
    "    {\"symbol\": \"GOOGL\", \"price\": 180.00, \"volume\": 120, \"timestamp\": \"2025-07-16 10:04:00\"},\n",
    "    {\"symbol\": \"AAPL\", \"price\": 175.80, \"volume\": 100, \"timestamp\": \"2025-07-16 10:05:00\"},\n",
    "]"
   ]
  },
  {
   "cell_type": "code",
   "execution_count": 4,
   "id": "ff11fac5-8086-4b41-bd8d-43ef1b168547",
   "metadata": {},
   "outputs": [
    {
     "data": {
      "text/plain": [
       "[{'symbol': 'AAPL',\n",
       "  'price': 175.5,\n",
       "  'volume': 150,\n",
       "  'timestamp': '2025-07-16 10:00:00'},\n",
       " {'symbol': 'GOOGL',\n",
       "  'price': 180.2,\n",
       "  'volume': 50,\n",
       "  'timestamp': '2025-07-16 10:01:00'},\n",
       " {'symbol': 'AAPL',\n",
       "  'price': 176.0,\n",
       "  'volume': 200,\n",
       "  'timestamp': '2025-07-16 10:02:00'},\n",
       " {'symbol': 'MSFT',\n",
       "  'price': 450.1,\n",
       "  'volume': 75,\n",
       "  'timestamp': '2025-07-16 10:03:00'},\n",
       " {'symbol': 'GOOGL',\n",
       "  'price': 180.0,\n",
       "  'volume': 120,\n",
       "  'timestamp': '2025-07-16 10:04:00'},\n",
       " {'symbol': 'AAPL',\n",
       "  'price': 175.8,\n",
       "  'volume': 100,\n",
       "  'timestamp': '2025-07-16 10:05:00'}]"
      ]
     },
     "execution_count": 4,
     "metadata": {},
     "output_type": "execute_result"
    }
   ],
   "source": [
    "trades"
   ]
  },
  {
   "cell_type": "code",
   "execution_count": 5,
   "id": "c5baa170-aee7-4862-92a8-4364a037ef12",
   "metadata": {},
   "outputs": [
    {
     "data": {
      "text/plain": [
       "2675.2"
      ]
     },
     "execution_count": 5,
     "metadata": {},
     "output_type": "execute_result"
    }
   ],
   "source": [
    "prices = []\n",
    "\n",
    "lst = [prices.append(item['price']) for item in trades]\n",
    "lst\n",
    "for item in trades:\n",
    "    prices.append(item['price'])\n",
    "    \n",
    "total = sum(prices)\n",
    "total"
   ]
  },
  {
   "cell_type": "markdown",
   "id": "51a41760-07b1-4619-8d12-0e675b4247e4",
   "metadata": {},
   "source": []
  },
  {
   "cell_type": "code",
   "execution_count": 6,
   "id": "0be88d73-dbf4-482c-9999-61d65550d004",
   "metadata": {},
   "outputs": [
    {
     "data": {
      "text/plain": [
       "1337.6"
      ]
     },
     "execution_count": 6,
     "metadata": {},
     "output_type": "execute_result"
    }
   ],
   "source": [
    "prices1 = []\n",
    "\n",
    "lst = [item['price'] for item in trades]\n",
    "total = sum(lst)\n",
    "total"
   ]
  },
  {
   "cell_type": "code",
   "execution_count": 7,
   "id": "ce01eaac-94b5-474d-8504-d4cec7d925ac",
   "metadata": {},
   "outputs": [],
   "source": [
    "# Our familiar trades data\n",
    "trades = [\n",
    "    {\"symbol\": \"AAPL\", \"price\": 175.50, \"volume\": 150, \"timestamp\": \"2025-07-16 10:00:00\"},\n",
    "    {\"symbol\": \"GOOGL\", \"price\": 180.20, \"volume\": 50, \"timestamp\": \"2025-07-16 10:01:00\"},\n",
    "    {\"symbol\": \"AAPL\", \"price\": 176.00, \"volume\": 200, \"timestamp\": \"2025-07-16 10:02:00\"},\n",
    "    {\"symbol\": \"MSFT\", \"price\": 450.10, \"volume\": 75, \"timestamp\": \"2025-07-16 10:03:00\"},\n",
    "    {\"symbol\": \"GOOGL\", \"price\": 180.00, \"volume\": 120, \"timestamp\": \"2025-07-16 10:04:00\"},\n",
    "    {\"symbol\": \"AAPL\", \"price\": 175.80, \"volume\": 100, \"timestamp\": \"2025-07-16 10:05:00\"},\n",
    "]\n",
    "\n",
    "# New dataset for nested dictionary practice\n",
    "product_inventory = {\n",
    "    \"Electronics\": {\n",
    "        \"Laptops\": {\"Dell XPS 15\": {\"stock\": 10, \"price\": 1800}, \"MacBook Air\": {\"stock\": 15, \"price\": 1200}},\n",
    "        \"Smartphones\": {\"iPhone 15\": {\"stock\": 50, \"price\": 1000}, \"Samsung S24\": {\"stock\": 40, \"price\": 950}},\n",
    "    },\n",
    "    \"Apparel\": {\n",
    "        \"T-Shirts\": {\"Cotton Tee\": {\"stock\": 200, \"price\": 25}, \"Graphic Tee\": {\"stock\": 150, \"price\": 30}},\n",
    "        \"Jeans\": {\"Slim Fit\": {\"stock\": 80, \"price\": 70}, \"Bootcut\": {\"stock\": 60, \"price\": 65}},\n",
    "    },\n",
    "    \"Books\": {\n",
    "        \"Fiction\": {\"The Great Gatsby\": {\"stock\": 30, \"price\": 15}, \"1984\": {\"stock\": 25, \"price\": 12}},\n",
    "        \"Non-Fiction\": {\"Sapiens\": {\"stock\": 40, \"price\": 20}},\n",
    "    }\n",
    "}"
   ]
  },
  {
   "cell_type": "code",
   "execution_count": 8,
   "id": "c221988c-003c-4e66-8d8e-3791f410bb8a",
   "metadata": {},
   "outputs": [
    {
     "data": {
      "text/plain": [
       "{'AAPL': 17580.0, 'GOOGL': 21600.0, 'MSFT': 33757.5}"
      ]
     },
     "execution_count": 8,
     "metadata": {},
     "output_type": "execute_result"
    }
   ],
   "source": [
    "# Value of the stock\n",
    "dictionary_sum = {item['symbol']: item['price'] * item['volume'] for item in trades}\n",
    "dictionary_sum"
   ]
  },
  {
   "cell_type": "code",
   "execution_count": 9,
   "id": "a4d3dfc2-17ab-45eb-97e9-9e2ce8582aac",
   "metadata": {},
   "outputs": [
    {
     "data": {
      "text/plain": [
       "{'AAPL': 17580.0, 'GOOGL': 21600.0, 'MSFT': 33757.5}"
      ]
     },
     "execution_count": 9,
     "metadata": {},
     "output_type": "execute_result"
    }
   ],
   "source": [
    "def finding_value(dictionary):\n",
    "    dictionary_sum = {item['symbol']: item['price'] * item['volume'] for item in dictionary}\n",
    "    return dictionary_sum\n",
    "\n",
    "finding_value(trades)"
   ]
  },
  {
   "cell_type": "code",
   "execution_count": 10,
   "id": "9a163401-19a5-4eec-8503-5fb9d777914b",
   "metadata": {},
   "outputs": [
    {
     "data": {
      "text/plain": [
       "{'AAPL': 17580.0, 'GOOGL': 21600.0}"
      ]
     },
     "execution_count": 10,
     "metadata": {},
     "output_type": "execute_result"
    }
   ],
   "source": [
    "def calculate_total_trade_value_filtered(trades, min_volume_per_trade):\n",
    "    value = {item['symbol']: item['price'] * item['volume'] for item in trades if item['volume']>= min_volume_per_trade}\n",
    "    return value\n",
    "\n",
    "calculate_total_trade_value_filtered(trades, 100)"
   ]
  },
  {
   "cell_type": "code",
   "execution_count": 11,
   "id": "d67bb6b1-05af-47fc-bf25-586bafc890dc",
   "metadata": {},
   "outputs": [
    {
     "data": {
      "text/plain": [
       "{'Electronics': {'Laptops': {'Dell XPS 15': {'stock': 10, 'price': 1800},\n",
       "   'MacBook Air': {'stock': 15, 'price': 1200}},\n",
       "  'Smartphones': {'iPhone 15': {'stock': 50, 'price': 1000},\n",
       "   'Samsung S24': {'stock': 40, 'price': 950}}},\n",
       " 'Apparel': {'T-Shirts': {'Cotton Tee': {'stock': 200, 'price': 25},\n",
       "   'Graphic Tee': {'stock': 150, 'price': 30}},\n",
       "  'Jeans': {'Slim Fit': {'stock': 80, 'price': 70},\n",
       "   'Bootcut': {'stock': 60, 'price': 65}}},\n",
       " 'Books': {'Fiction': {'The Great Gatsby': {'stock': 30, 'price': 15},\n",
       "   '1984': {'stock': 25, 'price': 12}},\n",
       "  'Non-Fiction': {'Sapiens': {'stock': 40, 'price': 20}}}}"
      ]
     },
     "execution_count": 11,
     "metadata": {},
     "output_type": "execute_result"
    }
   ],
   "source": [
    "product_inventory"
   ]
  },
  {
   "cell_type": "code",
   "execution_count": 14,
   "id": "4853b3ed-871d-4778-abd6-5180819d69aa",
   "metadata": {},
   "outputs": [
    {
     "name": "stdout",
     "output_type": "stream",
     "text": [
      "Total Inventory Value: 144550\n"
     ]
    }
   ],
   "source": [
    "# Establish the value of the inventory\n",
    "total_inventory_value = 0 # Initialize your grand total\n",
    "\n",
    "# Loop 1: Iterate through the top-level categories\n",
    "# .items() gives you both the key (category_name) and the value (the subcategory dictionary)\n",
    "for category_name, subcategories_dict in product_inventory.items():\n",
    "    # print(f\"Currently in Category: {category_name}\") # Optional: for debugging/understanding flow\n",
    "\n",
    "    # Loop 2: Iterate through the subcategories within the current category\n",
    "    # subcategories_dict is the dictionary of subcategories for this category\n",
    "    for subcategory_name, products_dict in subcategories_dict.items():\n",
    "        # print(f\"  Currently in Subcategory: {subcategory_name}\") # Optional: for debugging\n",
    "\n",
    "        # Loop 3: Iterate through the individual products within the current subcategory\n",
    "        # products_dict is the dictionary of products for this subcategory\n",
    "        for product_name, details_dict in products_dict.items():\n",
    "            # print(f\"    Processing Product: {product_name}\") # Optional: for debugging\n",
    "\n",
    "            # Access the stock and price from the innermost 'details_dict'\n",
    "            stock = details_dict['stock']\n",
    "            price = details_dict['price']\n",
    "\n",
    "            # Calculate the value for this specific product's stock\n",
    "            product_value = stock * price\n",
    "\n",
    "            # Add it to the running total\n",
    "            total_inventory_value += product_value\n",
    "\n",
    "# After all loops complete, print the final total\n",
    "print(f\"Total Inventory Value: {total_inventory_value}\")"
   ]
  },
  {
   "cell_type": "code",
   "execution_count": null,
   "id": "1465647e-be45-4d50-9e4d-bb897cf7728f",
   "metadata": {},
   "outputs": [],
   "source": []
  }
 ],
 "metadata": {
  "kernelspec": {
   "display_name": "Python 3 (ipykernel)",
   "language": "python",
   "name": "python3"
  },
  "language_info": {
   "codemirror_mode": {
    "name": "ipython",
    "version": 3
   },
   "file_extension": ".py",
   "mimetype": "text/x-python",
   "name": "python",
   "nbconvert_exporter": "python",
   "pygments_lexer": "ipython3",
   "version": "3.12.7"
  }
 },
 "nbformat": 4,
 "nbformat_minor": 5
}
