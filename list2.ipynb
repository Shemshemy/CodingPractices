{
 "cells": [
  {
   "cell_type": "code",
   "execution_count": 14,
   "id": "7f00feca",
   "metadata": {},
   "outputs": [],
   "source": [
    "trades = [\n",
    "    {\"symbol\": \"AAPL\", \"price\": 175.50, \"volume\": 150, \"timestamp\": \"2025-07-16 10:00:00\"},\n",
    "    {\"symbol\": \"GOOGL\", \"price\": 180.20, \"volume\": 50, \"timestamp\": \"2025-07-16 10:01:00\"},\n",
    "    {\"symbol\": \"AAPL\", \"price\": 176.00, \"volume\": 200, \"timestamp\": \"2025-07-16 10:02:00\"},\n",
    "    {\"symbol\": \"MSFT\", \"price\": 450.10, \"volume\": 75, \"timestamp\": \"2025-07-16 10:03:00\"},\n",
    "    {\"symbol\": \"GOOGL\", \"price\": 180.00, \"volume\": 120, \"timestamp\": \"2025-07-16 10:04:00\"},\n",
    "    {\"symbol\": \"AAPL\", \"price\": 175.80, \"volume\": 100, \"timestamp\": \"2025-07-16 10:05:00\"},\n",
    "]"
   ]
  },
  {
   "cell_type": "code",
   "execution_count": 15,
   "id": "fb617999",
   "metadata": {},
   "outputs": [],
   "source": [
    "def get_high_volume_symbols(trades_list, min_volume):\n",
    "    symbols = []\n",
    "    for trade in trades:\n",
    "        if min_volume < trade['volume']:\n",
    "            symbol = trade ['symbol']\n",
    "            if symbol not in symbols:\n",
    "                symbols.append(symbol)\n",
    "\n",
    "    return symbols"
   ]
  },
  {
   "cell_type": "code",
   "execution_count": 16,
   "id": "4fb35392",
   "metadata": {},
   "outputs": [
    {
     "data": {
      "text/plain": [
       "['AAPL', 'GOOGL']"
      ]
     },
     "execution_count": 16,
     "metadata": {},
     "output_type": "execute_result"
    }
   ],
   "source": [
    "get_high_volume_symbols(trades, 100)"
   ]
  },
  {
   "cell_type": "code",
   "execution_count": null,
   "id": "a77201d7",
   "metadata": {},
   "outputs": [],
   "source": []
  }
 ],
 "metadata": {
  "kernelspec": {
   "display_name": "venv",
   "language": "python",
   "name": "python3"
  },
  "language_info": {
   "codemirror_mode": {
    "name": "ipython",
    "version": 3
   },
   "file_extension": ".py",
   "mimetype": "text/x-python",
   "name": "python",
   "nbconvert_exporter": "python",
   "pygments_lexer": "ipython3",
   "version": "3.8.11"
  }
 },
 "nbformat": 4,
 "nbformat_minor": 5
}
